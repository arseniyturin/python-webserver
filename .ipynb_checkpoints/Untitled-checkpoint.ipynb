{
 "cells": [
  {
   "cell_type": "code",
   "execution_count": 14,
   "id": "3769c545",
   "metadata": {},
   "outputs": [],
   "source": [
    "import re"
   ]
  },
  {
   "cell_type": "code",
   "execution_count": 83,
   "id": "9926bed6",
   "metadata": {},
   "outputs": [
    {
     "data": {
      "text/plain": [
       "'120.0.0.0:8888'"
      ]
     },
     "execution_count": 83,
     "metadata": {},
     "output_type": "execute_result"
    }
   ],
   "source": [
    "s = 'GET / HTTP/1.1\\r\\nOrigin: https://120.0.0.0:8888\\r\\nSec-WebSocket-Key: 05heXv7lGl9FgopfeEJt8A==\\r\\n'\n",
    "\n",
    "re.findall('Origin: http.?://([0-9a-z:.]+)', s)[0]"
   ]
  },
  {
   "cell_type": "code",
   "execution_count": 40,
   "id": "f592eaa0",
   "metadata": {},
   "outputs": [
    {
     "data": {
      "text/plain": [
       "['123']"
      ]
     },
     "execution_count": 40,
     "metadata": {},
     "output_type": "execute_result"
    }
   ],
   "source": [
    "re.findall('hello+(\\d+)', 'hello123')"
   ]
  },
  {
   "cell_type": "code",
   "execution_count": 52,
   "id": "20d69be9",
   "metadata": {},
   "outputs": [
    {
     "name": "stdout",
     "output_type": "stream",
     "text": [
      "HTTP/1.1 101 Switching Protocols\r\n",
      "Upgrade: websocket\r\n",
      "Connection: Upgrade\r\n",
      "Sec-WebSocket-Accept: s3pPLMBiTxaQ9kYGzzhZRbK+xOo=\r\n",
      "\n"
     ]
    }
   ],
   "source": [
    "print(response.decode())"
   ]
  },
  {
   "cell_type": "code",
   "execution_count": null,
   "id": "852eec20",
   "metadata": {},
   "outputs": [],
   "source": []
  }
 ],
 "metadata": {
  "kernelspec": {
   "display_name": "Python 3",
   "language": "python",
   "name": "python3"
  },
  "language_info": {
   "codemirror_mode": {
    "name": "ipython",
    "version": 3
   },
   "file_extension": ".py",
   "mimetype": "text/x-python",
   "name": "python",
   "nbconvert_exporter": "python",
   "pygments_lexer": "ipython3",
   "version": "3.8.8"
  }
 },
 "nbformat": 4,
 "nbformat_minor": 5
}
